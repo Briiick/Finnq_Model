{
 "cells": [
  {
   "cell_type": "markdown",
   "metadata": {},
   "source": [
    "# Finnq Data Generation"
   ]
  },
  {
   "cell_type": "markdown",
   "metadata": {},
   "source": [
    "## Chris | Alexander | Samad (CAS)"
   ]
  },
  {
   "cell_type": "markdown",
   "metadata": {},
   "source": [
    "---"
   ]
  },
  {
   "cell_type": "markdown",
   "metadata": {},
   "source": [
    "### Opening Thoughts\n",
    "\n",
    "Upon beginning our project to classify users based upon the questions they answered, we realised there was a problem: the amount of data we can collect from questions asked in an on-boarding process is minimal. \n",
    "\n",
    "Hence, we decided to reconsider the way we could obtain insights from Finnq users to create targeted experiences."
   ]
  },
  {
   "cell_type": "markdown",
   "metadata": {},
   "source": [
    "---"
   ]
  },
  {
   "cell_type": "markdown",
   "metadata": {},
   "source": [
    "### Project Scope (Working Thesis):\n",
    "\n",
    "**\"We are looking to understand how using a user persona model will allow for greater optimisation and a better, personalised user experience for incoming FinnQ users.\"**\n",
    "\n",
    "We seek to achieve this in a three step process:\n",
    "- Start asking 4-6 questions when a user first opens the Finnq app and signs up. This will classify them into one out of less than 10 classification groups.\n",
    "- Perform an analysis to understand which services certain users are currently using based on classification data (age, gender, income brackets, time spent on particular screens).\n",
    "- Use this information to collect insights that can help to adjust and tailor the way we construct our classification groups so that new users can immediately have a better experience."
   ]
  },
  {
   "cell_type": "markdown",
   "metadata": {},
   "source": [
    "---"
   ]
  },
  {
   "cell_type": "markdown",
   "metadata": {},
   "source": [
    "### Variables To Consider:\n",
    "\n",
    "**Categorical:** \n",
    "- Age\n",
    "- Gender\n",
    "- Ethnicity\n",
    "- Income Bracket\n",
    "- Level of Education\n",
    "\n",
    "**User variables:**\n",
    "- Time spent on individual screens\n",
    "- Type of account linked\n",
    "- User of particular Features\n"
   ]
  },
  {
   "cell_type": "markdown",
   "metadata": {},
   "source": [
    "---"
   ]
  },
  {
   "cell_type": "markdown",
   "metadata": {},
   "source": [
    "### Potential Persona:"
   ]
  },
  {
   "cell_type": "markdown",
   "metadata": {},
   "source": [
    "#### Either Age Differentiated:\n",
    "- **Infant** (Savings, largely on behalf of other peers) (High Confidence) \n",
    "- **Early Millenial** (Heavy FinTech User, Limited use of Banking) (High Confidence) \n",
    "- **Late Millenial** (Larger Savings, Taking Credit) (Middle Confidence) \n",
    "- **Mid-Life** (Monitoring Investment Portfolio) (Middle / Low Confidence Variable)  \n",
    "- **Retiree** (Monitoring Savings, Concerned about Safety) (Low Confidence)\n",
    "\n",
    "Source: (Rooney, 2015)\n",
    "\n",
    "#### Or Role Differentiated:\n",
    "\n",
    "- **Student**  \n",
    "- **First Time Homebuyer**  \n",
    "- **Retiree**\n",
    "- **Investor**  \n",
    "- **Family Member (Child, Parent, Spouse, etc)**"
   ]
  },
  {
   "cell_type": "markdown",
   "metadata": {},
   "source": [
    "---"
   ]
  },
  {
   "cell_type": "markdown",
   "metadata": {},
   "source": [
    "### Technical Approach:"
   ]
  },
  {
   "cell_type": "markdown",
   "metadata": {},
   "source": [
    "We will be using Python3 for a number of reasons: \n",
    "- Readability.\n",
    "- Support libraries for data science.\n",
    "- Object oriented.\n",
    "- Learning opportunity for future.\n",
    "\n",
    "The types of packages we plan to use include: `statistics`, `random`, `numpy`, `matplotlib`,`seaborn`, `tqdm`, and `networkx`, among others.\n",
    "\n",
    "*Nota bene:* We will not be using Finnq data, nor will we try to represent Finnq data to a high degree of accuracy. In other words, the model will not tell us information about existing customers.\n",
    "\n",
    "The point of this model is to provide an example of how a user persona approach could be beneficial for Finnq upon being applied to Finnq data. The data fields provided by Finnq will only be useful in considering the type of data Finnq collects so that we can supplement our model further to make it more accurate in personalisation."
   ]
  },
  {
   "cell_type": "markdown",
   "metadata": {},
   "source": [
    "---"
   ]
  },
  {
   "cell_type": "markdown",
   "metadata": {},
   "source": [
    "### Project Output:\n",
    "\n",
    "- A white paper: to show the statistical analysis/data gather process, the model used, the rationale behind the model, and a guide for implementing the model on Finnq's data for the future.\n",
    "- The model itself.\n",
    "- A short presentation that represents our whitepaper research in a presentable format."
   ]
  }
 ],
 "metadata": {
  "kernelspec": {
   "display_name": "Python 3",
   "language": "python",
   "name": "python3"
  },
  "language_info": {
   "codemirror_mode": {
    "name": "ipython",
    "version": 3
   },
   "file_extension": ".py",
   "mimetype": "text/x-python",
   "name": "python",
   "nbconvert_exporter": "python",
   "pygments_lexer": "ipython3",
   "version": "3.7.4"
  }
 },
 "nbformat": 4,
 "nbformat_minor": 4
}
