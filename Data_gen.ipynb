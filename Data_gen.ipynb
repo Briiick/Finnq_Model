{
 "cells": [
  {
   "cell_type": "markdown",
   "metadata": {},
   "source": [
    "# Finnq Data Generation"
   ]
  },
  {
   "cell_type": "markdown",
   "metadata": {},
   "source": [
    "## Chris | Alexander | Samad (CAS)"
   ]
  },
  {
   "cell_type": "markdown",
   "metadata": {},
   "source": [
    "---"
   ]
  },
  {
   "cell_type": "markdown",
   "metadata": {},
   "source": [
    "**\"We are looking to understand how using a user persona model will allow for greater optimisation and a better, personalised user experience for incoming FinnQ users.\"**"
   ]
  },
  {
   "cell_type": "markdown",
   "metadata": {},
   "source": [
    "### Research"
   ]
  },
  {
   "cell_type": "markdown",
   "metadata": {},
   "source": [
    "Upon searching for datasets that would emulate the FinnQ dataset, we realised that we would not be able to find one accurate enough.\n",
    "\n",
    "However, in order to generate the dataset required to train the model, we can take some inspiration from other datasets that may have one or two similar columns.\n",
    "\n",
    "Here are the datasets we have used for inspiration:\n",
    "- https://users.nber.org/~rdehejia/data/.nswdata2.html (NSW Data - Lalonde)\n",
    "- http://hdr.undp.org/sites/all/themes/hdr_theme/country-notes/KOR.pdf (Korean HDI, 2018)\n",
    "- Personal experience."
   ]
  },
  {
   "cell_type": "markdown",
   "metadata": {},
   "source": [
    "---"
   ]
  },
  {
   "cell_type": "markdown",
   "metadata": {},
   "source": [
    "### Data Generation"
   ]
  },
  {
   "cell_type": "code",
   "execution_count": null,
   "metadata": {},
   "outputs": [],
   "source": [
    "# IMPORT LIBRARIES\n",
    "import pandas as pd\n",
    "import numpy as np\n",
    "import math\n",
    "import statistics as stat\n",
    "import random"
   ]
  },
  {
   "cell_type": "markdown",
   "metadata": {},
   "source": [
    "#### Sign Up (Pre-)Data\n",
    "\n",
    "This is the data that will be acquired from users answering questions when they first sign up to the app. It will allow for initial classification.\n",
    "\n",
    "**Categorical:** \n",
    "- Age\n",
    "- Gender\n",
    "- Income bracket\n",
    "- Level of education\n",
    "- Reason for downloading Finnq (this can be split into 5 different categories):\n",
    "    - Saving\n",
    "    - Cash transfers\n",
    "    - Mobile banking?\n",
    "    - All of them\n",
    "    - Not really sure\n",
    "\n",
    "This is the data that will be acquired once users rack-up more hours on the platform. We can use this data as a way to tailor experience for future new users.\n",
    "\n",
    "**App Use variables:**\n",
    "- Time spent on individual screens\n",
    "- Type of account linked\n",
    "- User of particular features\n",
    "\n",
    "We want to have enough data to make valuable insights. Thus, we will be generating a dataset of 1000 users."
   ]
  },
  {
   "cell_type": "code",
   "execution_count": null,
   "metadata": {},
   "outputs": [],
   "source": [
    "### Generation\n",
    "\n",
    "# set amount of users\n",
    "number = 1000\n",
    "\n",
    "# ages from around 15 to 70\n",
    "\n",
    "# gender roughly 50/50 split\n",
    "\n",
    "# income distribtion\n",
    "# generate with a right skew mean at 2500\n",
    "# $21,882 = mean SK income\n",
    "\n",
    "# level of education (years)\n",
    "# range 0 - 20+\n",
    "\n",
    "# reason for downloading Finnq\n"
   ]
  },
  {
   "cell_type": "code",
   "execution_count": null,
   "metadata": {},
   "outputs": [],
   "source": [
    "# Categorising\n",
    "\n",
    "\n",
    "# income bracket range from \n",
    "# 0-25000; 25000-50000; 50000-75000; 75000-100000; 100000-125000; "
   ]
  },
  {
   "cell_type": "markdown",
   "metadata": {},
   "source": [
    "#### App Use (Post-)Data"
   ]
  },
  {
   "cell_type": "code",
   "execution_count": null,
   "metadata": {},
   "outputs": [],
   "source": []
  }
 ],
 "metadata": {
  "kernelspec": {
   "display_name": "Python 3",
   "language": "python",
   "name": "python3"
  },
  "language_info": {
   "codemirror_mode": {
    "name": "ipython",
    "version": 3
   },
   "file_extension": ".py",
   "mimetype": "text/x-python",
   "name": "python",
   "nbconvert_exporter": "python",
   "pygments_lexer": "ipython3",
   "version": "3.7.4"
  }
 },
 "nbformat": 4,
 "nbformat_minor": 4
}
